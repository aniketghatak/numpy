{
 "cells": [
  {
   "cell_type": "code",
   "execution_count": 1,
   "metadata": {},
   "outputs": [],
   "source": [
    "import numpy as np"
   ]
  },
  {
   "cell_type": "code",
   "execution_count": 3,
   "metadata": {},
   "outputs": [
    {
     "name": "stdout",
     "output_type": "stream",
     "text": [
      "[0.84113535 0.29611419 0.02744823 0.66475891 0.2475776 ]\n"
     ]
    }
   ],
   "source": [
    "# rand\n",
    "var=np.random.rand(5)\n",
    "print(var)"
   ]
  },
  {
   "cell_type": "code",
   "execution_count": 4,
   "metadata": {},
   "outputs": [
    {
     "name": "stdout",
     "output_type": "stream",
     "text": [
      "[[0.10459068 0.11957776 0.87761525]\n",
      " [0.11413918 0.52188251 0.80952853]]\n"
     ]
    }
   ],
   "source": [
    "var_a=np.random.rand(2,3)\n",
    "print(var_a)"
   ]
  },
  {
   "cell_type": "code",
   "execution_count": 5,
   "metadata": {},
   "outputs": [
    {
     "name": "stdout",
     "output_type": "stream",
     "text": [
      "[ 0.27490868 -0.72423069  2.012701    0.24732465 -1.63683601]\n"
     ]
    }
   ],
   "source": [
    "#randn function\n",
    "var_b=np.random.randn(5)\n",
    "print(var_b)"
   ]
  },
  {
   "cell_type": "code",
   "execution_count": 6,
   "metadata": {},
   "outputs": [
    {
     "name": "stdout",
     "output_type": "stream",
     "text": [
      "[[ 1.32870979 -0.49425795 -0.32265267]\n",
      " [-1.16085287  1.52878679 -0.16998109]\n",
      " [-1.53408197 -0.20948447  0.3762637 ]\n",
      " [ 0.79297701 -1.39780215  1.37836368]\n",
      " [-0.42889814  0.64280206 -1.66281957]]\n"
     ]
    }
   ],
   "source": [
    "var_b1=np.random.randn(5,3)\n",
    "print(var_b1)"
   ]
  },
  {
   "cell_type": "code",
   "execution_count": 8,
   "metadata": {},
   "outputs": [
    {
     "name": "stdout",
     "output_type": "stream",
     "text": [
      "[0.89987903 0.82050909 0.74945146 0.54928635 0.1418526 ]\n"
     ]
    }
   ],
   "source": [
    "#ranf\n",
    "var_c=np.random.ranf(5)\n",
    "print(var_c)"
   ]
  },
  {
   "cell_type": "code",
   "execution_count": 11,
   "metadata": {},
   "outputs": [
    {
     "name": "stdout",
     "output_type": "stream",
     "text": [
      "[46 80 94 64]\n"
     ]
    }
   ],
   "source": [
    "#randint\n",
    "var_d=np.random.randint(10,100,4)\n",
    "print(var_d)"
   ]
  }
 ],
 "metadata": {
  "kernelspec": {
   "display_name": "Python 3",
   "language": "python",
   "name": "python3"
  },
  "language_info": {
   "codemirror_mode": {
    "name": "ipython",
    "version": 3
   },
   "file_extension": ".py",
   "mimetype": "text/x-python",
   "name": "python",
   "nbconvert_exporter": "python",
   "pygments_lexer": "ipython3",
   "version": "3.8.5"
  }
 },
 "nbformat": 4,
 "nbformat_minor": 4
}
