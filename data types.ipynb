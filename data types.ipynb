{
 "cells": [
  {
   "cell_type": "code",
   "execution_count": 1,
   "metadata": {},
   "outputs": [],
   "source": [
    "import numpy as np"
   ]
  },
  {
   "cell_type": "code",
   "execution_count": 2,
   "metadata": {},
   "outputs": [
    {
     "name": "stdout",
     "output_type": "stream",
     "text": [
      "The data type is :  int32\n"
     ]
    }
   ],
   "source": [
    "var_a=np.array([1,2,3,4])\n",
    "print(\"The data type is : \" ,var_a.dtype)"
   ]
  },
  {
   "cell_type": "code",
   "execution_count": 3,
   "metadata": {},
   "outputs": [
    {
     "name": "stdout",
     "output_type": "stream",
     "text": [
      "The data type is :  float64\n"
     ]
    }
   ],
   "source": [
    "var_b=np.array([1.4,2.7,3.8,4.9])\n",
    "print(\"The data type is : \" ,var_b.dtype)"
   ]
  },
  {
   "cell_type": "code",
   "execution_count": 4,
   "metadata": {},
   "outputs": [
    {
     "name": "stdout",
     "output_type": "stream",
     "text": [
      "The data type is :  <U1\n"
     ]
    }
   ],
   "source": [
    "var_c=np.array([\"a\",\"b\",\"o\",\"t\"])\n",
    "print(\"The data type is : \" ,var_c.dtype)"
   ]
  },
  {
   "cell_type": "code",
   "execution_count": 5,
   "metadata": {},
   "outputs": [
    {
     "name": "stdout",
     "output_type": "stream",
     "text": [
      "The data type is :  <U1\n"
     ]
    }
   ],
   "source": [
    "var_d=np.array([\"a\",\"b\",\"o\",\"t\",1,2,3])\n",
    "print(\"The data type is : \" ,var_d.dtype)"
   ]
  },
  {
   "cell_type": "code",
   "execution_count": 7,
   "metadata": {},
   "outputs": [
    {
     "name": "stdout",
     "output_type": "stream",
     "text": [
      "The data type is :  int32\n"
     ]
    }
   ],
   "source": [
    "# Data Type conversion \n",
    "var_e=np.array([1,2,3,4])\n",
    "print(\"The data type is : \" ,var_e.dtype)"
   ]
  },
  {
   "cell_type": "code",
   "execution_count": 10,
   "metadata": {},
   "outputs": [
    {
     "name": "stdout",
     "output_type": "stream",
     "text": [
      "The data type is :  int8\n"
     ]
    }
   ],
   "source": [
    "#convert to int-8 format\n",
    "var_e1=np.array([1,2,3,4],dtype=np.int8)\n",
    "print(\"The data type is : \" ,var_e1.dtype)"
   ]
  },
  {
   "cell_type": "code",
   "execution_count": 11,
   "metadata": {},
   "outputs": [
    {
     "name": "stdout",
     "output_type": "stream",
     "text": [
      "The data type is :  float32\n"
     ]
    }
   ],
   "source": [
    "#convert to float-32\n",
    "var_e2=np.array([1,2,3,4],dtype=\"f\")\n",
    "print(\"The data type is : \" ,var_e2.dtype)"
   ]
  },
  {
   "cell_type": "code",
   "execution_count": 14,
   "metadata": {},
   "outputs": [
    {
     "name": "stdout",
     "output_type": "stream",
     "text": [
      "[1 2 3 4]\n",
      "the data type of data is  int32\n",
      "[1. 2. 3. 4.]\n",
      "the data type of data_f is  float64\n"
     ]
    }
   ],
   "source": [
    "#astype function\n",
    "data=np.array([1,2,3,4])\n",
    "data_f=data.astype(float)\n",
    "\n",
    "print(data)\n",
    "print(\"the data type of data is \", data.dtype)\n",
    "print(data_f)\n",
    "print(\"the data type of data_f is \", data_f.dtype)"
   ]
  }
 ],
 "metadata": {
  "kernelspec": {
   "display_name": "Python 3",
   "language": "python",
   "name": "python3"
  },
  "language_info": {
   "codemirror_mode": {
    "name": "ipython",
    "version": 3
   },
   "file_extension": ".py",
   "mimetype": "text/x-python",
   "name": "python",
   "nbconvert_exporter": "python",
   "pygments_lexer": "ipython3",
   "version": "3.8.5"
  }
 },
 "nbformat": 4,
 "nbformat_minor": 4
}
