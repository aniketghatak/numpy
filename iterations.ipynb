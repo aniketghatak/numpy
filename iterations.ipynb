{
 "cells": [
  {
   "cell_type": "code",
   "execution_count": 1,
   "metadata": {},
   "outputs": [],
   "source": [
    "import numpy as np"
   ]
  },
  {
   "cell_type": "code",
   "execution_count": 2,
   "metadata": {},
   "outputs": [
    {
     "name": "stdout",
     "output_type": "stream",
     "text": [
      "[2 3 5 7 8 2 5]\n",
      "2\n",
      "3\n",
      "5\n",
      "7\n",
      "8\n",
      "2\n",
      "5\n"
     ]
    }
   ],
   "source": [
    "# Iterating a one-dimensional array\n",
    "x=np.array([2,3,5,7,8,2,5])\n",
    "print(x)\n",
    "\n",
    "for i in x:\n",
    "    print(i)"
   ]
  },
  {
   "cell_type": "code",
   "execution_count": 5,
   "metadata": {},
   "outputs": [
    {
     "name": "stdout",
     "output_type": "stream",
     "text": [
      "[[1 2 3]\n",
      " [4 5 6]]\n",
      "[1 2 3]\n",
      "[4 5 6]\n",
      "1\n",
      "2\n",
      "3\n",
      "4\n",
      "5\n",
      "6\n"
     ]
    }
   ],
   "source": [
    "# Iterating a two-dimensional array\n",
    "y=np.array([[1,2,3],[4,5,6]])\n",
    "print(y)\n",
    "\n",
    "for j in y:\n",
    "    print(j)\n",
    "\n",
    "for k in y:\n",
    "    for l in k:\n",
    "        print(l)\n"
   ]
  },
  {
   "cell_type": "code",
   "execution_count": 6,
   "metadata": {},
   "outputs": [
    {
     "name": "stdout",
     "output_type": "stream",
     "text": [
      "[[[1 2 3 4]\n",
      "  [4 5 6 8]]]\n",
      "1\n",
      "2\n",
      "3\n",
      "4\n",
      "4\n",
      "5\n",
      "6\n",
      "8\n"
     ]
    }
   ],
   "source": [
    "# Iterating a three-dimensional array\n",
    "z=np.array([[[1,2,3,4],[4,5,6,8]]])\n",
    "print(z)\n",
    "\n",
    "for i in z:\n",
    "    for j in i:\n",
    "        for k in j:\n",
    "            print(k)\n"
   ]
  },
  {
   "cell_type": "code",
   "execution_count": 8,
   "metadata": {},
   "outputs": [
    {
     "name": "stdout",
     "output_type": "stream",
     "text": [
      "[[[1 2 3 4]\n",
      "  [4 5 6 8]]]\n",
      "3\n",
      "\n",
      "1\n",
      "2\n",
      "3\n",
      "4\n",
      "4\n",
      "5\n",
      "6\n",
      "8\n"
     ]
    }
   ],
   "source": [
    "# Iterating a three-dimensional array using -nditer- function\n",
    "z=np.array([[[1,2,3,4],[4,5,6,8]]])\n",
    "print(z)\n",
    "print(z.ndim)\n",
    "print()\n",
    "for i in np.nditer(z):\n",
    "    print(i)"
   ]
  },
  {
   "cell_type": "code",
   "execution_count": 9,
   "metadata": {},
   "outputs": [
    {
     "name": "stdout",
     "output_type": "stream",
     "text": [
      "[[[1 2 3 4]\n",
      "  [4 5 6 8]]]\n",
      "3\n",
      "\n",
      "(0, 0, 0) 1\n",
      "(0, 0, 1) 2\n",
      "(0, 0, 2) 3\n",
      "(0, 0, 3) 4\n",
      "(0, 1, 0) 4\n",
      "(0, 1, 1) 5\n",
      "(0, 1, 2) 6\n",
      "(0, 1, 3) 8\n"
     ]
    }
   ],
   "source": [
    "# Iterating a three-dimensional array using -ndenumerate- function\n",
    "z=np.array([[[1,2,3,4],[4,5,6,8]]])\n",
    "print(z)\n",
    "print(z.ndim)\n",
    "print()\n",
    "for i,d in np.ndenumerate(z):\n",
    "    print(i,d)"
   ]
  },
  {
   "cell_type": "code",
   "execution_count": null,
   "metadata": {},
   "outputs": [],
   "source": []
  }
 ],
 "metadata": {
  "kernelspec": {
   "display_name": "Python 3",
   "language": "python",
   "name": "python3"
  },
  "language_info": {
   "codemirror_mode": {
    "name": "ipython",
    "version": 3
   },
   "file_extension": ".py",
   "mimetype": "text/x-python",
   "name": "python",
   "nbconvert_exporter": "python",
   "pygments_lexer": "ipython3",
   "version": "3.8.5"
  }
 },
 "nbformat": 4,
 "nbformat_minor": 4
}
