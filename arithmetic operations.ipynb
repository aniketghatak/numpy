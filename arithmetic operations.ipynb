{
 "cells": [
  {
   "cell_type": "code",
   "execution_count": 1,
   "metadata": {},
   "outputs": [],
   "source": [
    "import numpy as np"
   ]
  },
  {
   "cell_type": "code",
   "execution_count": 5,
   "metadata": {},
   "outputs": [
    {
     "name": "stdout",
     "output_type": "stream",
     "text": [
      "[1 2 3 4]\n",
      "[4 5 6 7]\n"
     ]
    }
   ],
   "source": [
    "# addition\n",
    "var_a=np.array([1,2,3,4])\n",
    "var_add= var_a+3\n",
    "print(var_a)\n",
    "print(var_add)"
   ]
  },
  {
   "cell_type": "code",
   "execution_count": 12,
   "metadata": {},
   "outputs": [
    {
     "name": "stdout",
     "output_type": "stream",
     "text": [
      "[ 7  9 11 13]\n"
     ]
    }
   ],
   "source": [
    "#add function\n",
    "var_a=np.array([2,3,4,5])\n",
    "var_b=np.array([5,6,7,8])\n",
    "var_addf=np.add(var_a,var_b)\n",
    "print(var_addf)"
   ]
  },
  {
   "cell_type": "code",
   "execution_count": 6,
   "metadata": {},
   "outputs": [
    {
     "name": "stdout",
     "output_type": "stream",
     "text": [
      "[1 2 3 4]\n",
      "[0 1 2 3]\n"
     ]
    }
   ],
   "source": [
    "# subtract\n",
    "var_a=np.array([1,2,3,4])\n",
    "var_subt= var_a-1\n",
    "print(var_a)\n",
    "print(var_subt)"
   ]
  },
  {
   "cell_type": "code",
   "execution_count": 16,
   "metadata": {},
   "outputs": [
    {
     "name": "stdout",
     "output_type": "stream",
     "text": [
      "[-3 -3 -3 -3]\n"
     ]
    }
   ],
   "source": [
    "# subtract function\n",
    "var_a=np.array([2,3,4,5])\n",
    "var_b=np.array([5,6,7,8])\n",
    "var_subf=np.subtract(var_a,var_b)\n",
    "print(var_subf)"
   ]
  },
  {
   "cell_type": "code",
   "execution_count": 7,
   "metadata": {},
   "outputs": [
    {
     "name": "stdout",
     "output_type": "stream",
     "text": [
      "[2 3 4 5]\n",
      "[ 4  6  8 10]\n"
     ]
    }
   ],
   "source": [
    "# multiply\n",
    "var_a=np.array([2,3,4,5])\n",
    "var_mul= var_a*2\n",
    "print(var_a)\n",
    "print(var_mul)"
   ]
  },
  {
   "cell_type": "code",
   "execution_count": 17,
   "metadata": {},
   "outputs": [
    {
     "name": "stdout",
     "output_type": "stream",
     "text": [
      "[10 18 28 40]\n"
     ]
    }
   ],
   "source": [
    "# multiply function\n",
    "var_a=np.array([2,3,4,5])\n",
    "var_b=np.array([5,6,7,8])\n",
    "var_mulf=np.multiply(var_a,var_b)\n",
    "print(var_mulf)"
   ]
  },
  {
   "cell_type": "code",
   "execution_count": 8,
   "metadata": {},
   "outputs": [
    {
     "name": "stdout",
     "output_type": "stream",
     "text": [
      "[2 3 4 5]\n",
      "[1.  1.5 2.  2.5]\n"
     ]
    }
   ],
   "source": [
    "# divide\n",
    "var_a=np.array([2,3,4,5])\n",
    "var_div= var_a/2\n",
    "print(var_a)\n",
    "print(var_div)"
   ]
  },
  {
   "cell_type": "code",
   "execution_count": 18,
   "metadata": {},
   "outputs": [
    {
     "name": "stdout",
     "output_type": "stream",
     "text": [
      "[0.4        0.5        0.57142857 0.625     ]\n"
     ]
    }
   ],
   "source": [
    "# divide function\n",
    "var_a=np.array([2,3,4,5])\n",
    "var_b=np.array([5,6,7,8])\n",
    "var_divf=np.divide(var_a,var_b)\n",
    "print(var_divf)"
   ]
  },
  {
   "cell_type": "code",
   "execution_count": 10,
   "metadata": {},
   "outputs": [
    {
     "name": "stdout",
     "output_type": "stream",
     "text": [
      "[2 3 4 5]\n",
      "[0 1 0 1]\n"
     ]
    }
   ],
   "source": [
    "# modulus\n",
    "var_a=np.array([2,3,4,5])\n",
    "var_mod= var_a%2\n",
    "print(var_a)\n",
    "print(var_mod)"
   ]
  },
  {
   "cell_type": "code",
   "execution_count": 19,
   "metadata": {},
   "outputs": [
    {
     "name": "stdout",
     "output_type": "stream",
     "text": [
      "[2 3 4 5]\n"
     ]
    }
   ],
   "source": [
    "# mod function\n",
    "var_a=np.array([2,3,4,5])\n",
    "var_b=np.array([5,6,7,8])\n",
    "var_modf=np.mod(var_a,var_b)\n",
    "print(var_modf)"
   ]
  }
 ],
 "metadata": {
  "kernelspec": {
   "display_name": "Python 3",
   "language": "python",
   "name": "python3"
  },
  "language_info": {
   "codemirror_mode": {
    "name": "ipython",
    "version": 3
   },
   "file_extension": ".py",
   "mimetype": "text/x-python",
   "name": "python",
   "nbconvert_exporter": "python",
   "pygments_lexer": "ipython3",
   "version": "3.8.5"
  }
 },
 "nbformat": 4,
 "nbformat_minor": 4
}
