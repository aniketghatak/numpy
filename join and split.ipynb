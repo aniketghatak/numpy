{
 "cells": [
  {
   "cell_type": "code",
   "execution_count": 1,
   "metadata": {},
   "outputs": [],
   "source": [
    "import numpy as np"
   ]
  },
  {
   "cell_type": "markdown",
   "metadata": {},
   "source": [
    "# Join"
   ]
  },
  {
   "cell_type": "code",
   "execution_count": 4,
   "metadata": {},
   "outputs": [
    {
     "name": "stdout",
     "output_type": "stream",
     "text": [
      "[1 2 3 4 5 6 7 8]\n"
     ]
    }
   ],
   "source": [
    "#join single dimension arrays\n",
    "var_a=np.array([1,2,3,4])\n",
    "var_b=np.array([5,6,7,8])\n",
    "var_ab=np.concatenate((var_a,var_b))\n",
    "print(var_ab)"
   ]
  },
  {
   "cell_type": "code",
   "execution_count": 6,
   "metadata": {},
   "outputs": [
    {
     "name": "stdout",
     "output_type": "stream",
     "text": [
      "[[1 2 3 4 5 6 7 8]\n",
      " [3 4 5 6 1 2 4 5]]\n"
     ]
    }
   ],
   "source": [
    "#join two dimension arrays\n",
    "var_a1=np.array([[1,2,3,4],[3,4,5,6]])\n",
    "var_b1=np.array([[5,6,7,8],[1,2,4,5]])\n",
    "var_ab1=np.concatenate((var_a1,var_b1),axis=1)\n",
    "print(var_ab1)"
   ]
  },
  {
   "cell_type": "code",
   "execution_count": 7,
   "metadata": {},
   "outputs": [
    {
     "name": "stdout",
     "output_type": "stream",
     "text": [
      "[[[1 2 3 4]\n",
      "  [5 6 7 8]]\n",
      "\n",
      " [[3 4 5 6]\n",
      "  [1 2 4 5]]]\n"
     ]
    }
   ],
   "source": [
    "#join using stack function\n",
    "var_a2=np.array([[1,2,3,4],[3,4,5,6]])\n",
    "var_b2=np.array([[5,6,7,8],[1,2,4,5]])\n",
    "var_ab2=np.stack((var_a2,var_b2),axis=1)\n",
    "print(var_ab2)"
   ]
  },
  {
   "cell_type": "code",
   "execution_count": 8,
   "metadata": {},
   "outputs": [
    {
     "name": "stdout",
     "output_type": "stream",
     "text": [
      "[[[1 5]\n",
      "  [2 6]\n",
      "  [3 7]\n",
      "  [4 8]]\n",
      "\n",
      " [[3 1]\n",
      "  [4 2]\n",
      "  [5 4]\n",
      "  [6 5]]]\n"
     ]
    }
   ],
   "source": [
    "#join using dstack function\n",
    "var_a3=np.array([[1,2,3,4],[3,4,5,6]])\n",
    "var_b3=np.array([[5,6,7,8],[1,2,4,5]])\n",
    "var_ab3=np.dstack((var_a3,var_b3))\n",
    "print(var_ab3)"
   ]
  },
  {
   "cell_type": "markdown",
   "metadata": {},
   "source": [
    "# Split"
   ]
  },
  {
   "cell_type": "code",
   "execution_count": 9,
   "metadata": {},
   "outputs": [
    {
     "name": "stdout",
     "output_type": "stream",
     "text": [
      "[array([1, 2]), array([3, 4]), array([5, 6])]\n"
     ]
    }
   ],
   "source": [
    "#split single dimension arrays\n",
    "var_s=np.array([1,2,3,4,5,6])\n",
    "ar_s=np.array_split(var_s,3)\n",
    "print(ar_s)"
   ]
  },
  {
   "cell_type": "code",
   "execution_count": 12,
   "metadata": {},
   "outputs": [
    {
     "name": "stdout",
     "output_type": "stream",
     "text": [
      "<class 'list'>\n"
     ]
    }
   ],
   "source": [
    "print(type(ar_s)) # check the data type os the split arrays"
   ]
  },
  {
   "cell_type": "code",
   "execution_count": 21,
   "metadata": {},
   "outputs": [
    {
     "name": "stdout",
     "output_type": "stream",
     "text": [
      "[array([[1, 2],\n",
      "       [6, 7]]), array([[7, 8]])]\n"
     ]
    }
   ],
   "source": [
    "#split two dimension arrays\n",
    "var_s2=np.array([[1,2],[6,7],[7,8]])\n",
    "ar_s2=np.array_split(var_s2,2)\n",
    "print(ar_s2)"
   ]
  },
  {
   "cell_type": "code",
   "execution_count": 25,
   "metadata": {},
   "outputs": [
    {
     "name": "stdout",
     "output_type": "stream",
     "text": [
      "[array([[1],\n",
      "       [6],\n",
      "       [7]]), array([[2],\n",
      "       [7],\n",
      "       [8]])]\n"
     ]
    }
   ],
   "source": [
    "ar_s3=np.array_split(var_s2,2,axis=1)\n",
    "print(ar_s3)"
   ]
  }
 ],
 "metadata": {
  "kernelspec": {
   "display_name": "Python 3",
   "language": "python",
   "name": "python3"
  },
  "language_info": {
   "codemirror_mode": {
    "name": "ipython",
    "version": 3
   },
   "file_extension": ".py",
   "mimetype": "text/x-python",
   "name": "python",
   "nbconvert_exporter": "python",
   "pygments_lexer": "ipython3",
   "version": "3.8.5"
  }
 },
 "nbformat": 4,
 "nbformat_minor": 4
}
